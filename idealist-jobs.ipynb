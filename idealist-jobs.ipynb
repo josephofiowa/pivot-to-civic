{
 "cells": [
  {
   "cell_type": "code",
   "execution_count": null,
   "metadata": {},
   "outputs": [],
   "source": []
  },
  {
   "cell_type": "code",
   "execution_count": null,
   "metadata": {},
   "outputs": [],
   "source": []
  },
  {
   "cell_type": "code",
   "execution_count": 1,
   "metadata": {},
   "outputs": [],
   "source": [
    "from bs4 import BeautifulSoup\n",
    "import requests\n",
    "from selenium import webdriver\n",
    "from selenium.webdriver.common.keys import Keys\n",
    "from time import sleep\n",
    "from math import ceil\n",
    "import pandas as pd"
   ]
  },
  {
   "cell_type": "code",
   "execution_count": 2,
   "metadata": {},
   "outputs": [],
   "source": [
    "driver = webdriver.Chrome()\n",
    "driver.get(\"https://www.idealist.org/en/?functions=COMMUNICATIONS&functions=DATABASE_ADMINISTRATION&functions=GRAPHIC_DESIGN&functions=TECHNOLOGY_IT&type=JOB\")\n",
    "sleep(1)\n",
    "html = driver.page_source\n",
    "driver.close()\n"
   ]
  },
  {
   "cell_type": "code",
   "execution_count": 3,
   "metadata": {},
   "outputs": [],
   "source": [
    "soup = BeautifulSoup(html, \"lxml\")"
   ]
  },
  {
   "cell_type": "code",
   "execution_count": 4,
   "metadata": {},
   "outputs": [],
   "source": [
    "results = int(soup.find(\"p\", attrs={\"class\":\"text-center search-results-count\"}).text.split(\" \")[0])\n",
    "pages = ceil(results/20)"
   ]
  },
  {
   "cell_type": "code",
   "execution_count": 5,
   "metadata": {},
   "outputs": [],
   "source": [
    "title = []\n",
    "link = []\n",
    "for n in range(1,pages+1):\n",
    "    driver = webdriver.Chrome()\n",
    "    driver.get(\"https://www.idealist.org/en/?functions=COMMUNICATIONS&functions=DATABASE_ADMINISTRATION&functions=GRAPHIC_DESIGN&functions=TECHNOLOGY_IT&page=\"+str(n)+\"&type=JOB\")\n",
    "    sleep(1)\n",
    "    html = driver.page_source\n",
    "    for post in soup.find_all(\"a\", attrs={\"data-qa-id\":\"search-result-link\"}, href=True):\n",
    "        title.append(post.text)\n",
    "        link.append(\"https://www.idealist.org/\" + post['href'])\n",
    "    driver.close()\n"
   ]
  },
  {
   "cell_type": "code",
   "execution_count": 6,
   "metadata": {},
   "outputs": [],
   "source": [
    "jobs = pd.DataFrame({'title': title,\n",
    "     'link': link,\n",
    "    })"
   ]
  },
  {
   "cell_type": "code",
   "execution_count": 7,
   "metadata": {},
   "outputs": [],
   "source": [
    "jobs.to_csv(\"jobs.csv\")"
   ]
  },
  {
   "cell_type": "code",
   "execution_count": null,
   "metadata": {},
   "outputs": [],
   "source": []
  }
 ],
 "metadata": {
  "kernelspec": {
   "display_name": "Python 3",
   "language": "python",
   "name": "python3"
  },
  "language_info": {
   "codemirror_mode": {
    "name": "ipython",
    "version": 3
   },
   "file_extension": ".py",
   "mimetype": "text/x-python",
   "name": "python",
   "nbconvert_exporter": "python",
   "pygments_lexer": "ipython3",
   "version": "3.6.4"
  }
 },
 "nbformat": 4,
 "nbformat_minor": 2
}
